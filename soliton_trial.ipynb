{
 "cells": [
  {
   "cell_type": "code",
   "execution_count": 1,
   "id": "efa3fb17-5af1-4702-8ce3-f894f1b33ef0",
   "metadata": {},
   "outputs": [
    {
     "data": {
      "image/png": "[encoded data removed]",
      "text/plain": [
       "<Figure size 720x468 with 2 Axes>"
      ]
     },
     "metadata": {
      "needs_background": "light"
     },
     "output_type": "display_data"
    }
   ],
   "source": [
    "import numpy as np\n",
    "import matplotlib.pyplot as plt\n",
    "plt.rcParams.update({\n",
    "  \"text.usetex\": True,\n",
    "  \"font.family\": \"serif\"\n",
    "})\n",
    "\n",
    "f = np.load('initial_f.npy')\n",
    "\n",
    "\n",
    "def initsoliton(funct, xarray, yarray, zarray, position, alpha, f, delta_x):\n",
    "    for index in np.ndindex(funct.shape):\n",
    "        # Note also that this distfromcentre is here to calculate the distance of every gridpoint from the centre of the soliton, not to calculate the distance of the soliton from the centre of the grid\n",
    "        distfromcentre = (\n",
    "            (xarray[index] - position[0]) ** 2 +\n",
    "            (yarray[index] - position[1]) ** 2 +\n",
    "            (zarray[index] - position[2]) ** 2\n",
    "        ) ** 0.5\n",
    "        # Utilises soliton profile array out to dimensionless radius 5.6.\n",
    "        if (np.sqrt(alpha) * distfromcentre <= 5.6):\n",
    "            funct[index] = alpha * f[int(np.sqrt(alpha) * (distfromcentre / delta_x + 1))]\n",
    "\n",
    "        else:\n",
    "            funct[index] = 0\n",
    "    return funct\n",
    "\n",
    "\n",
    "\n",
    "def plot_soliton(length, resol, position, alpha, f):\n",
    "    xarray = np.linspace(-length, length, resol)\n",
    "    yarray = np.linspace(-length, length, resol)\n",
    "    zarray = np.linspace(-length, length, 90)\n",
    "    xarray, yarray, zarray = np.meshgrid(xarray, yarray, zarray, indexing='ij')\n",
    "    funct = np.zeros((resol, resol, 90), dtype=complex)\n",
    "    delta_x = xarray[1, 0, 0] - xarray[0, 0, 0]  # Assuming uniform spacing\n",
    "    funct = initsoliton(funct, xarray, yarray, zarray, position, alpha, f, delta_x)\n",
    "    z_index = resol // 2\n",
    "    psi_slice = funct[:, :, z_index]\n",
    "\n",
    "    \n",
    "    fig, ax = plt.subplots(1, figsize=(10, 6.5))\n",
    "    cax = ax.imshow(np.abs(psi_slice)**2, extent=(-length, length, -length, length), origin='lower', aspect='auto', interpolation='nearest')\n",
    "    cbar = fig.colorbar(cax)\n",
    "    cbar.ax.tick_params(labelsize=13)\n",
    "    cbar.set_label(label=r'Density, $|\\psi(\\vec{r}, t)|^{2}$', size=18)\n",
    "    plt.xlabel('X', fontsize=22, labelpad=2)\n",
    "    plt.ylabel('Y', fontsize=22, labelpad=2)\n",
    "    plt.xticks(fontsize=16)\n",
    "    plt.yticks(fontsize=16)\n",
    "    plt.title('Probability Density of Soliton Wave Function', fontsize=16)\n",
    "\n",
    "    \n",
    "    plt.savefig(\"density_noPBH.pdf\", bbox_inches='tight')\n",
    "    plt.show()  \n",
    "\n",
    "    \n",
    "#parameters of solitons as per choice\n",
    "length = 10\n",
    "resol = 100\n",
    "r = 0\n",
    "position = [r, 0, 0]  #position of the soliton\n",
    "alpha = 1.0    \n",
    "plot_soliton(length, resol, position, alpha, f)"
   ]
  },
  {
   "cell_type": "code",
   "execution_count": null,
   "id": "149364cb-4300-4ea3-ad53-3e7fe6afcde7",
   "metadata": {},
   "outputs": [],
   "source": []
  },
  {
   "cell_type": "code",
   "execution_count": null,
   "id": "9b560663-9d03-471d-8df9-6cf4e5dc3546",
   "metadata": {},
   "outputs": [],
   "source": []
  }
 ],
 "metadata": {
  "kernelspec": {
   "display_name": "Python 3 (ipykernel)",
   "language": "python",
   "name": "python3"
  },
  "language_info": {
   "codemirror_mode": {
    "name": "ipython",
    "version": 3
   },
   "file_extension": ".py",
   "mimetype": "text/x-python",
   "name": "python",
   "nbconvert_exporter": "python",
   "pygments_lexer": "ipython3",
   "version": "3.9.12"
  }
 },
 "nbformat": 4,
 "nbformat_minor": 5
}
